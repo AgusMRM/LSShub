{
 "cells": [
  {
   "cell_type": "code",
   "execution_count": 127,
   "metadata": {},
   "outputs": [],
   "source": [
    "import numpy as np\n",
    "import matplotlib.pylab as plt\n",
    "from math import acos"
   ]
  },
  {
   "cell_type": "code",
   "execution_count": 128,
   "metadata": {},
   "outputs": [],
   "source": [
    "t=np.loadtxt('sumatoria_30.dat')"
   ]
  },
  {
   "cell_type": "code",
   "execution_count": 129,
   "metadata": {},
   "outputs": [],
   "source": [
    "pi=acos(-1.)\n",
    "masa=t[:,0]\n",
    "dx=t[:,1]\n",
    "dy=t[:,2]\n",
    "dz=t[:,3]\n",
    "dist=t[:,4]\n",
    "H=100 #km/(s*Mpc)\n",
    "a=1\n",
    "f=(6.3**0.6)\n",
    "\n",
    "vx= []\n",
    "vy= []\n",
    "vz= []"
   ]
  },
  {
   "cell_type": "code",
   "execution_count": 130,
   "metadata": {},
   "outputs": [],
   "source": [
    "v30=np.zeros(3)\n",
    "v30[0]=(H*a*f/(pi*4))*np.sum(masa*dx/(dist**3))\n",
    "v30[1]=(H*a*f/(pi*4))*np.sum(masa*dy/(dist**3))\n",
    "v30[2]=(H*a*f/(pi*4))*np.sum(masa*dz/(dist**3))\n",
    "vx.append(v30[0])\n",
    "vy.append(v30[1])\n",
    "vz.append(v30[2])"
   ]
  },
  {
   "cell_type": "code",
   "execution_count": 131,
   "metadata": {},
   "outputs": [
    {
     "ename": "AttributeError",
     "evalue": "'list' object has no attribute 'av30'",
     "output_type": "error",
     "traceback": [
      "\u001b[0;31m---------------------------------------------------------------------------\u001b[0m",
      "\u001b[0;31mAttributeError\u001b[0m                            Traceback (most recent call last)",
      "\u001b[0;32m<ipython-input-131-1238cf81be98>\u001b[0m in \u001b[0;36m<module>\u001b[0;34m()\u001b[0m\n\u001b[0;32m----> 1\u001b[0;31m \u001b[0mvx\u001b[0m\u001b[0;34m.\u001b[0m\u001b[0mav30\u001b[0m\u001b[0;34m[\u001b[0m\u001b[0;36m0\u001b[0m\u001b[0;34m]\u001b[0m\u001b[0;34m\u001b[0m\u001b[0m\n\u001b[0m",
      "\u001b[0;31mAttributeError\u001b[0m: 'list' object has no attribute 'av30'"
     ]
    }
   ],
   "source": [
    "vx.av30[0]"
   ]
  },
  {
   "cell_type": "code",
   "execution_count": 132,
   "metadata": {},
   "outputs": [
    {
     "name": "stdout",
     "output_type": "stream",
     "text": [
      "[-3.78364652e+11 -4.40649340e+11 -1.14875510e+12]\n"
     ]
    }
   ],
   "source": [
    "print (v30)"
   ]
  },
  {
   "cell_type": "code",
   "execution_count": 133,
   "metadata": {},
   "outputs": [
    {
     "name": "stdout",
     "output_type": "stream",
     "text": [
      "[-6.40302430e+11 -3.97797129e+11 -1.34036790e+12]\n"
     ]
    }
   ],
   "source": [
    "t=np.loadtxt('sumatoria_60.dat')\n",
    "masa=t[:,0]\n",
    "dx=t[:,1]\n",
    "dy=t[:,2]\n",
    "dz=t[:,3]\n",
    "dist=t[:,4]\n",
    "v60=np.zeros(3)\n",
    "v60[0]=(H*a*f/(pi*4))*np.sum(masa*dx/(dist**3))\n",
    "v60[1]=(H*a*f/(pi*4))*np.sum(masa*dy/(dist**3))\n",
    "v60[2]=(H*a*f/(pi*4))*np.sum(masa*dz/(dist**3))\n",
    "print (v60)\n",
    "vx.append(v60[0])\n",
    "vy.append(v60[1])\n",
    "vz.append(v60[2])"
   ]
  },
  {
   "cell_type": "code",
   "execution_count": 134,
   "metadata": {},
   "outputs": [
    {
     "name": "stdout",
     "output_type": "stream",
     "text": [
      "[-9.00403557e+11 -1.64718599e+11 -1.36975460e+12]\n"
     ]
    }
   ],
   "source": [
    "t=np.loadtxt('sumatoria_90.dat')\n",
    "masa=t[:,0]\n",
    "dx=t[:,1]\n",
    "dy=t[:,2]\n",
    "dz=t[:,3]\n",
    "dist=t[:,4]\n",
    "v90=np.zeros(3)\n",
    "v90[0]=(H*a*f/(pi*4))*np.sum(masa*dx/(dist**3))\n",
    "v90[1]=(H*a*f/(pi*4))*np.sum(masa*dy/(dist**3))\n",
    "v90[2]=(H*a*f/(pi*4))*np.sum(masa*dz/(dist**3))\n",
    "print (v90)\n",
    "vx.append(v90[0])\n",
    "vy.append(v90[1])\n",
    "vz.append(v90[2])"
   ]
  },
  {
   "cell_type": "code",
   "execution_count": 135,
   "metadata": {},
   "outputs": [
    {
     "name": "stdout",
     "output_type": "stream",
     "text": [
      "[-7.89841271e+11  9.49934950e+10 -1.33136664e+12]\n"
     ]
    }
   ],
   "source": [
    "t=np.loadtxt('sumatoria_120.dat')\n",
    "masa=t[:,0]\n",
    "dx=t[:,1]\n",
    "dy=t[:,2]\n",
    "dz=t[:,3]\n",
    "dist=t[:,4]\n",
    "v120=np.zeros(3)\n",
    "v120[0]=(H*a*f/(pi*4))*np.sum(masa*dx/(dist**3))\n",
    "v120[1]=(H*a*f/(pi*4))*np.sum(masa*dy/(dist**3))\n",
    "v120[2]=(H*a*f/(pi*4))*np.sum(masa*dz/(dist**3))\n",
    "print (v120)\n",
    "vx.append(v120[0])\n",
    "vy.append(v120[1])\n",
    "vz.append(v120[2])"
   ]
  },
  {
   "cell_type": "code",
   "execution_count": 136,
   "metadata": {},
   "outputs": [
    {
     "name": "stdout",
     "output_type": "stream",
     "text": [
      "[-8.89048692e+11  1.05311910e+11 -1.23729879e+12]\n"
     ]
    }
   ],
   "source": [
    "t=np.loadtxt('sumatoria_150.dat')\n",
    "masa=t[:,0]\n",
    "dx=t[:,1]\n",
    "dy=t[:,2]\n",
    "dz=t[:,3]\n",
    "dist=t[:,4]\n",
    "v150=np.zeros(3)\n",
    "v150[0]=(H*a*f/(pi*4))*np.sum(masa*dx/(dist**3))\n",
    "v150[1]=(H*a*f/(pi*4))*np.sum(masa*dy/(dist**3))\n",
    "v150[2]=(H*a*f/(pi*4))*np.sum(masa*dz/(dist**3))\n",
    "print (v150)\n",
    "vx.append(v150[0])\n",
    "vy.append(v150[1])\n",
    "vz.append(v150[2])"
   ]
  },
  {
   "cell_type": "code",
   "execution_count": 137,
   "metadata": {},
   "outputs": [
    {
     "name": "stdout",
     "output_type": "stream",
     "text": [
      "[-9.27137417e+11  1.59259877e+11 -1.18009251e+12]\n"
     ]
    }
   ],
   "source": [
    "t=np.loadtxt('sumatoria_180.dat')\n",
    "masa=t[:,0]\n",
    "dx=t[:,1]\n",
    "dy=t[:,2]\n",
    "dz=t[:,3]\n",
    "dist=t[:,4]\n",
    "v180=np.zeros(3)\n",
    "v180[0]=(H*a*f/(pi*4))*np.sum(masa*dx/(dist**3))\n",
    "v180[1]=(H*a*f/(pi*4))*np.sum(masa*dy/(dist**3))\n",
    "v180[2]=(H*a*f/(pi*4))*np.sum(masa*dz/(dist**3))\n",
    "print (v180)\n",
    "vx.append(v180[0])\n",
    "vy.append(v180[1])\n",
    "vz.append(v180[2])"
   ]
  },
  {
   "cell_type": "code",
   "execution_count": 138,
   "metadata": {},
   "outputs": [
    {
     "name": "stdout",
     "output_type": "stream",
     "text": [
      "[-8.67565309e+11  1.87765752e+11 -1.14745518e+12]\n"
     ]
    }
   ],
   "source": [
    "t=np.loadtxt('sumatoria_210.dat')\n",
    "masa=t[:,0]\n",
    "dx=t[:,1]\n",
    "dy=t[:,2]\n",
    "dz=t[:,3]\n",
    "dist=t[:,4]\n",
    "v210=np.zeros(3)\n",
    "v210[0]=(H*a*f/(pi*4))*np.sum(masa*dx/(dist**3))\n",
    "v210[1]=(H*a*f/(pi*4))*np.sum(masa*dy/(dist**3))\n",
    "v210[2]=(H*a*f/(pi*4))*np.sum(masa*dz/(dist**3))\n",
    "print (v210)\n",
    "vx.append(v210[0])\n",
    "vy.append(v210[1])\n",
    "vz.append(v210[2])"
   ]
  },
  {
   "cell_type": "code",
   "execution_count": 139,
   "metadata": {},
   "outputs": [
    {
     "name": "stdout",
     "output_type": "stream",
     "text": [
      "[-8.67565309e+11  1.87765752e+11 -1.14745518e+12]\n"
     ]
    }
   ],
   "source": [
    "t=np.loadtxt('sumatoria_240.dat')\n",
    "masa=t[:,0]\n",
    "dx=t[:,1]\n",
    "dy=t[:,2]\n",
    "dz=t[:,3]\n",
    "dist=t[:,4]\n",
    "v240=np.zeros(3)\n",
    "v240[0]=(H*a*f/(pi*4))*np.sum(masa*dx/(dist**3))\n",
    "v240[1]=(H*a*f/(pi*4))*np.sum(masa*dy/(dist**3))\n",
    "v240[2]=(H*a*f/(pi*4))*np.sum(masa*dz/(dist**3))\n",
    "print (v240)\n",
    "vx.append(v240[0])\n",
    "vy.append(v240[1])\n",
    "vz.append(v240[2])"
   ]
  },
  {
   "cell_type": "code",
   "execution_count": 140,
   "metadata": {},
   "outputs": [
    {
     "name": "stdout",
     "output_type": "stream",
     "text": [
      "[-8.56752533e+11  1.84785129e+11 -1.30274770e+12]\n"
     ]
    }
   ],
   "source": [
    "t=np.loadtxt('sumatoria_270.dat')\n",
    "masa=t[:,0]\n",
    "dx=t[:,1]\n",
    "dy=t[:,2]\n",
    "dz=t[:,3]\n",
    "dist=t[:,4]\n",
    "v270=np.zeros(3)\n",
    "v270[0]=(H*a*f/(pi*4))*np.sum(masa*dx/(dist**3))\n",
    "v270[1]=(H*a*f/(pi*4))*np.sum(masa*dy/(dist**3))\n",
    "v270[2]=(H*a*f/(pi*4))*np.sum(masa*dz/(dist**3))\n",
    "print (v270)\n",
    "vx.append(v270[0])\n",
    "vy.append(v270[1])\n",
    "vz.append(v270[2])"
   ]
  },
  {
   "cell_type": "code",
   "execution_count": 141,
   "metadata": {},
   "outputs": [
    {
     "name": "stdout",
     "output_type": "stream",
     "text": [
      "[-8.56752533e+11  1.84785129e+11 -1.30274770e+12]\n"
     ]
    }
   ],
   "source": [
    "t=np.loadtxt('sumatoria_300.dat')\n",
    "masa=t[:,0]\n",
    "dx=t[:,1]\n",
    "dy=t[:,2]\n",
    "dz=t[:,3]\n",
    "dist=t[:,4]\n",
    "v300=np.zeros(3)\n",
    "v300[0]=(H*a*f/(pi*4))*np.sum(masa*dx/(dist**3))\n",
    "v300[1]=(H*a*f/(pi*4))*np.sum(masa*dy/(dist**3))\n",
    "v300[2]=(H*a*f/(pi*4))*np.sum(masa*dz/(dist**3))\n",
    "print (v300)\n",
    "vx.append(v300[0])\n",
    "vy.append(v300[1])\n",
    "vz.append(v300[2])"
   ]
  },
  {
   "cell_type": "code",
   "execution_count": 142,
   "metadata": {},
   "outputs": [
    {
     "name": "stdout",
     "output_type": "stream",
     "text": [
      "[-8.56752533e+11  1.84785129e+11 -1.30274770e+12]\n"
     ]
    }
   ],
   "source": [
    "t=np.loadtxt('sumatoria_330.dat')\n",
    "masa=t[:,0]\n",
    "dx=t[:,1]\n",
    "dy=t[:,2]\n",
    "dz=t[:,3]\n",
    "dist=t[:,4]\n",
    "v330=np.zeros(3)\n",
    "v330[0]=(H*a*f/(pi*4))*np.sum(masa*dx/(dist**3))\n",
    "v330[1]=(H*a*f/(pi*4))*np.sum(masa*dy/(dist**3))\n",
    "v330[2]=(H*a*f/(pi*4))*np.sum(masa*dz/(dist**3))\n",
    "print (v330)\n",
    "vx.append(v330[0])\n",
    "vy.append(v330[1])\n",
    "vz.append(v330[2])"
   ]
  },
  {
   "cell_type": "code",
   "execution_count": 143,
   "metadata": {},
   "outputs": [
    {
     "ename": "KeyboardInterrupt",
     "evalue": "",
     "output_type": "error",
     "traceback": [
      "\u001b[0;31m---------------------------------------------------------------------------\u001b[0m",
      "\u001b[0;31mKeyboardInterrupt\u001b[0m                         Traceback (most recent call last)",
      "\u001b[0;32m<ipython-input-143-47a26a7786d9>\u001b[0m in \u001b[0;36m<module>\u001b[0;34m()\u001b[0m\n\u001b[0;32m----> 1\u001b[0;31m \u001b[0mt\u001b[0m\u001b[0;34m=\u001b[0m\u001b[0mnp\u001b[0m\u001b[0;34m.\u001b[0m\u001b[0mloadtxt\u001b[0m\u001b[0;34m(\u001b[0m\u001b[0;34m'sumatoria_360.dat'\u001b[0m\u001b[0;34m)\u001b[0m\u001b[0;34m\u001b[0m\u001b[0m\n\u001b[0m\u001b[1;32m      2\u001b[0m \u001b[0mmasa\u001b[0m\u001b[0;34m=\u001b[0m\u001b[0mt\u001b[0m\u001b[0;34m[\u001b[0m\u001b[0;34m:\u001b[0m\u001b[0;34m,\u001b[0m\u001b[0;36m0\u001b[0m\u001b[0;34m]\u001b[0m\u001b[0;34m\u001b[0m\u001b[0m\n\u001b[1;32m      3\u001b[0m \u001b[0mdx\u001b[0m\u001b[0;34m=\u001b[0m\u001b[0mt\u001b[0m\u001b[0;34m[\u001b[0m\u001b[0;34m:\u001b[0m\u001b[0;34m,\u001b[0m\u001b[0;36m1\u001b[0m\u001b[0;34m]\u001b[0m\u001b[0;34m\u001b[0m\u001b[0m\n\u001b[1;32m      4\u001b[0m \u001b[0mdy\u001b[0m\u001b[0;34m=\u001b[0m\u001b[0mt\u001b[0m\u001b[0;34m[\u001b[0m\u001b[0;34m:\u001b[0m\u001b[0;34m,\u001b[0m\u001b[0;36m2\u001b[0m\u001b[0;34m]\u001b[0m\u001b[0;34m\u001b[0m\u001b[0m\n\u001b[1;32m      5\u001b[0m \u001b[0mdz\u001b[0m\u001b[0;34m=\u001b[0m\u001b[0mt\u001b[0m\u001b[0;34m[\u001b[0m\u001b[0;34m:\u001b[0m\u001b[0;34m,\u001b[0m\u001b[0;36m3\u001b[0m\u001b[0;34m]\u001b[0m\u001b[0;34m\u001b[0m\u001b[0m\n",
      "\u001b[0;32m/home/agustin/miniconda2/lib/python2.7/site-packages/numpy/lib/npyio.pyc\u001b[0m in \u001b[0;36mloadtxt\u001b[0;34m(fname, dtype, comments, delimiter, converters, skiprows, usecols, unpack, ndmin, encoding)\u001b[0m\n\u001b[1;32m   1099\u001b[0m         \u001b[0;31m# converting the data\u001b[0m\u001b[0;34m\u001b[0m\u001b[0;34m\u001b[0m\u001b[0m\n\u001b[1;32m   1100\u001b[0m         \u001b[0mX\u001b[0m \u001b[0;34m=\u001b[0m \u001b[0mNone\u001b[0m\u001b[0;34m\u001b[0m\u001b[0m\n\u001b[0;32m-> 1101\u001b[0;31m         \u001b[0;32mfor\u001b[0m \u001b[0mx\u001b[0m \u001b[0;32min\u001b[0m \u001b[0mread_data\u001b[0m\u001b[0;34m(\u001b[0m\u001b[0m_loadtxt_chunksize\u001b[0m\u001b[0;34m)\u001b[0m\u001b[0;34m:\u001b[0m\u001b[0;34m\u001b[0m\u001b[0m\n\u001b[0m\u001b[1;32m   1102\u001b[0m             \u001b[0;32mif\u001b[0m \u001b[0mX\u001b[0m \u001b[0;32mis\u001b[0m \u001b[0mNone\u001b[0m\u001b[0;34m:\u001b[0m\u001b[0;34m\u001b[0m\u001b[0m\n\u001b[1;32m   1103\u001b[0m                 \u001b[0mX\u001b[0m \u001b[0;34m=\u001b[0m \u001b[0mnp\u001b[0m\u001b[0;34m.\u001b[0m\u001b[0marray\u001b[0m\u001b[0;34m(\u001b[0m\u001b[0mx\u001b[0m\u001b[0;34m,\u001b[0m \u001b[0mdtype\u001b[0m\u001b[0;34m)\u001b[0m\u001b[0;34m\u001b[0m\u001b[0m\n",
      "\u001b[0;32m/home/agustin/miniconda2/lib/python2.7/site-packages/numpy/lib/npyio.pyc\u001b[0m in \u001b[0;36mread_data\u001b[0;34m(chunk_size)\u001b[0m\n\u001b[1;32m   1029\u001b[0m \u001b[0;34m\u001b[0m\u001b[0m\n\u001b[1;32m   1030\u001b[0m             \u001b[0;31m# Then pack it according to the dtype's nesting\u001b[0m\u001b[0;34m\u001b[0m\u001b[0;34m\u001b[0m\u001b[0m\n\u001b[0;32m-> 1031\u001b[0;31m             \u001b[0mitems\u001b[0m \u001b[0;34m=\u001b[0m \u001b[0mpack_items\u001b[0m\u001b[0;34m(\u001b[0m\u001b[0mitems\u001b[0m\u001b[0;34m,\u001b[0m \u001b[0mpacking\u001b[0m\u001b[0;34m)\u001b[0m\u001b[0;34m\u001b[0m\u001b[0m\n\u001b[0m\u001b[1;32m   1032\u001b[0m             \u001b[0mX\u001b[0m\u001b[0;34m.\u001b[0m\u001b[0mappend\u001b[0m\u001b[0;34m(\u001b[0m\u001b[0mitems\u001b[0m\u001b[0;34m)\u001b[0m\u001b[0;34m\u001b[0m\u001b[0m\n\u001b[1;32m   1033\u001b[0m             \u001b[0;32mif\u001b[0m \u001b[0mlen\u001b[0m\u001b[0;34m(\u001b[0m\u001b[0mX\u001b[0m\u001b[0;34m)\u001b[0m \u001b[0;34m>\u001b[0m \u001b[0mchunk_size\u001b[0m\u001b[0;34m:\u001b[0m\u001b[0;34m\u001b[0m\u001b[0m\n",
      "\u001b[0;32m/home/agustin/miniconda2/lib/python2.7/site-packages/numpy/lib/npyio.pyc\u001b[0m in \u001b[0;36mpack_items\u001b[0;34m(items, packing)\u001b[0m\n\u001b[1;32m    987\u001b[0m                 \u001b[0mret\u001b[0m\u001b[0;34m.\u001b[0m\u001b[0mappend\u001b[0m\u001b[0;34m(\u001b[0m\u001b[0mpack_items\u001b[0m\u001b[0;34m(\u001b[0m\u001b[0mitems\u001b[0m\u001b[0;34m[\u001b[0m\u001b[0mstart\u001b[0m\u001b[0;34m:\u001b[0m\u001b[0mstart\u001b[0m\u001b[0;34m+\u001b[0m\u001b[0mlength\u001b[0m\u001b[0;34m]\u001b[0m\u001b[0;34m,\u001b[0m \u001b[0msubpacking\u001b[0m\u001b[0;34m)\u001b[0m\u001b[0;34m)\u001b[0m\u001b[0;34m\u001b[0m\u001b[0m\n\u001b[1;32m    988\u001b[0m                 \u001b[0mstart\u001b[0m \u001b[0;34m+=\u001b[0m \u001b[0mlength\u001b[0m\u001b[0;34m\u001b[0m\u001b[0m\n\u001b[0;32m--> 989\u001b[0;31m             \u001b[0;32mreturn\u001b[0m \u001b[0mtuple\u001b[0m\u001b[0;34m(\u001b[0m\u001b[0mret\u001b[0m\u001b[0;34m)\u001b[0m\u001b[0;34m\u001b[0m\u001b[0m\n\u001b[0m\u001b[1;32m    990\u001b[0m \u001b[0;34m\u001b[0m\u001b[0m\n\u001b[1;32m    991\u001b[0m     \u001b[0;32mdef\u001b[0m \u001b[0msplit_line\u001b[0m\u001b[0;34m(\u001b[0m\u001b[0mline\u001b[0m\u001b[0;34m)\u001b[0m\u001b[0;34m:\u001b[0m\u001b[0;34m\u001b[0m\u001b[0m\n",
      "\u001b[0;31mKeyboardInterrupt\u001b[0m: "
     ]
    }
   ],
   "source": [
    "t=np.loadtxt('sumatoria_360.dat')\n",
    "masa=t[:,0]\n",
    "dx=t[:,1]\n",
    "dy=t[:,2]\n",
    "dz=t[:,3]\n",
    "dist=t[:,4]\n",
    "v360=np.zeros(3)\n",
    "v360[0]=(H*a*f/(pi*4))*np.sum(masa*dx/(dist**3))\n",
    "v360[1]=(H*a*f/(pi*4))*np.sum(masa*dy/(dist**3))\n",
    "v360[2]=(H*a*f/(pi*4))*np.sum(masa*dz/(dist**3))\n",
    "print (v360)\n",
    "#vx.append(v360[0])\n",
    "#vy.append(v360[1])\n",
    "#vz.append(v360[2])"
   ]
  },
  {
   "cell_type": "code",
   "execution_count": 144,
   "metadata": {},
   "outputs": [],
   "source": [
    "d=np.linspace(30,330,11)"
   ]
  },
  {
   "cell_type": "code",
   "execution_count": 145,
   "metadata": {},
   "outputs": [
    {
     "data": {
      "text/plain": [
       "(-1000000000000.0, -100000000000.0)"
      ]
     },
     "execution_count": 145,
     "metadata": {},
     "output_type": "execute_result"
    },
    {
     "data": {
      "image/png": "[encoded data removed]",
      "text/plain": [
       "<Figure size 432x288 with 1 Axes>"
      ]
     },
     "metadata": {
      "needs_background": "light"
     },
     "output_type": "display_data"
    }
   ],
   "source": [
    "plt.plot(d,vx,marker='.')\n",
    "plt.xlim(0,350)\n",
    "plt.ylim(-.1e13,-.01e13)"
   ]
  },
  {
   "cell_type": "code",
   "execution_count": 154,
   "metadata": {},
   "outputs": [
    {
     "data": {
      "text/plain": [
       "Text(0,0.5,'?')"
      ]
     },
     "execution_count": 154,
     "metadata": {},
     "output_type": "execute_result"
    },
    {
     "data": {
      "image/png": "[encoded data removed]",
      "text/plain": [
       "<Figure size 504x504 with 1 Axes>"
      ]
     },
     "metadata": {
      "needs_background": "light"
     },
     "output_type": "display_data"
    }
   ],
   "source": [
    "plt.figure(figsize=(7,7))\n",
    "plt.plot(d,vy,label='vy')\n",
    "plt.plot(d,vz,label='vz')\n",
    "plt.plot(d,vx,label='vx')\n",
    "plt.legend()\n",
    "plt.xlabel('Mpc')\n",
    "plt.ylabel('?')"
   ]
  },
  {
   "cell_type": "code",
   "execution_count": 148,
   "metadata": {},
   "outputs": [
    {
     "data": {
      "text/plain": [
       "[<matplotlib.lines.Line2D at 0x7fc31a7a3890>]"
      ]
     },
     "execution_count": 148,
     "metadata": {},
     "output_type": "execute_result"
    },
    {
     "data": {
      "image/png": "[encoded data removed]",
      "text/plain": [
       "<Figure size 432x288 with 1 Axes>"
      ]
     },
     "metadata": {
      "needs_background": "light"
     },
     "output_type": "display_data"
    }
   ],
   "source": [
    "plt.plot(d,vz,marker='.')"
   ]
  }
 ],
 "metadata": {
  "kernelspec": {
   "display_name": "Python 2",
   "language": "python",
   "name": "python2"
  },
  "language_info": {
   "codemirror_mode": {
    "name": "ipython",
    "version": 2
   },
   "file_extension": ".py",
   "mimetype": "text/x-python",
   "name": "python",
   "nbconvert_exporter": "python",
   "pygments_lexer": "ipython2",
   "version": "2.7.15"
  }
 },
 "nbformat": 4,
 "nbformat_minor": 2
}
